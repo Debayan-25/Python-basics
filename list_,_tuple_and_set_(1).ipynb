{
  "cells": [
    {
      "cell_type": "markdown",
      "metadata": {
        "id": "view-in-github",
        "colab_type": "text"
      },
      "source": [
        "<a href=\"https://colab.research.google.com/github/Debayan-25/Python-basics/blob/main/list_%2C_tuple_and_set_(1).ipynb\" target=\"_parent\"><img src=\"https://colab.research.google.com/assets/colab-badge.svg\" alt=\"Open In Colab\"/></a>"
      ]
    },
    {
      "cell_type": "code",
      "execution_count": null,
      "id": "c7bbeb48-2684-44ff-a1d2-5b57584b08b7",
      "metadata": {
        "id": "c7bbeb48-2684-44ff-a1d2-5b57584b08b7"
      },
      "outputs": [],
      "source": [
        "l =[1,345,45,\"sudh\" ,True ,5+7j , 345.456]"
      ]
    },
    {
      "cell_type": "code",
      "execution_count": null,
      "id": "cbb8d0fb-b25a-4588-aac4-f9802795c51d",
      "metadata": {
        "id": "cbb8d0fb-b25a-4588-aac4-f9802795c51d",
        "outputId": "cb902790-f907-4c49-e1e1-1ef49f58b0ba"
      },
      "outputs": [
        {
          "data": {
            "text/plain": [
              "5.0"
            ]
          },
          "execution_count": 206,
          "metadata": {},
          "output_type": "execute_result"
        }
      ],
      "source": [
        "l[5].real"
      ]
    },
    {
      "cell_type": "code",
      "execution_count": null,
      "id": "ec45fd4d-cbb3-421a-823a-bf87542ac44b",
      "metadata": {
        "id": "ec45fd4d-cbb3-421a-823a-bf87542ac44b"
      },
      "outputs": [],
      "source": []
    },
    {
      "cell_type": "code",
      "execution_count": null,
      "id": "1d912421-85c0-4b4a-97c7-f7db6a242c1e",
      "metadata": {
        "id": "1d912421-85c0-4b4a-97c7-f7db6a242c1e"
      },
      "outputs": [],
      "source": []
    },
    {
      "cell_type": "code",
      "execution_count": null,
      "id": "97208361-a180-4cb7-88a1-6e4df0254c9e",
      "metadata": {
        "id": "97208361-a180-4cb7-88a1-6e4df0254c9e",
        "outputId": "e290b4de-af58-4763-ca5d-b9bac16f4ebb"
      },
      "outputs": [
        {
          "data": {
            "text/plain": [
              "list"
            ]
          },
          "execution_count": 3,
          "metadata": {},
          "output_type": "execute_result"
        }
      ],
      "source": [
        "type(l)"
      ]
    },
    {
      "cell_type": "code",
      "execution_count": null,
      "id": "187c5ba4-b042-4b24-bbbc-00c54b5ff2b0",
      "metadata": {
        "id": "187c5ba4-b042-4b24-bbbc-00c54b5ff2b0",
        "outputId": "d87721eb-7383-4bde-ba69-4e00acb14d03"
      },
      "outputs": [
        {
          "data": {
            "text/plain": [
              "1"
            ]
          },
          "execution_count": 4,
          "metadata": {},
          "output_type": "execute_result"
        }
      ],
      "source": [
        "l[0]"
      ]
    },
    {
      "cell_type": "code",
      "execution_count": null,
      "id": "456cfc58-4de9-495c-adb8-408e87eb4fbd",
      "metadata": {
        "id": "456cfc58-4de9-495c-adb8-408e87eb4fbd",
        "outputId": "f5dfa346-085b-45bc-d0de-071f76363377"
      },
      "outputs": [
        {
          "data": {
            "text/plain": [
              "345.456"
            ]
          },
          "execution_count": 5,
          "metadata": {},
          "output_type": "execute_result"
        }
      ],
      "source": [
        "l[6]"
      ]
    },
    {
      "cell_type": "code",
      "execution_count": null,
      "id": "b55813bf-f44e-4863-a16c-04a8518fc6f8",
      "metadata": {
        "id": "b55813bf-f44e-4863-a16c-04a8518fc6f8",
        "outputId": "3733c365-0c13-41a2-de0f-28ecf3f62f60"
      },
      "outputs": [
        {
          "ename": "IndexError",
          "evalue": "list index out of range",
          "output_type": "error",
          "traceback": [
            "\u001b[0;31m---------------------------------------------------------------------------\u001b[0m",
            "\u001b[0;31mIndexError\u001b[0m                                Traceback (most recent call last)",
            "Cell \u001b[0;32mIn[6], line 1\u001b[0m\n\u001b[0;32m----> 1\u001b[0m \u001b[43ml\u001b[49m\u001b[43m[\u001b[49m\u001b[38;5;241;43m90\u001b[39;49m\u001b[43m]\u001b[49m\n",
            "\u001b[0;31mIndexError\u001b[0m: list index out of range"
          ]
        }
      ],
      "source": [
        "l[90]"
      ]
    },
    {
      "cell_type": "code",
      "execution_count": null,
      "id": "f39b5ea3-6063-42ea-912c-c1a7a6e2a9d4",
      "metadata": {
        "id": "f39b5ea3-6063-42ea-912c-c1a7a6e2a9d4",
        "outputId": "e5403770-e456-4f5f-d488-751340f21c5e"
      },
      "outputs": [
        {
          "data": {
            "text/plain": [
              "[1, 345, 45, 'sudh', True, (5+7j), 345.456]"
            ]
          },
          "execution_count": 7,
          "metadata": {},
          "output_type": "execute_result"
        }
      ],
      "source": [
        "l"
      ]
    },
    {
      "cell_type": "code",
      "execution_count": null,
      "id": "3fb61b2d-83f8-415d-b639-9e768dd1ca9a",
      "metadata": {
        "id": "3fb61b2d-83f8-415d-b639-9e768dd1ca9a",
        "outputId": "b76eaf9a-0e1e-4288-ad43-2a9825df7127"
      },
      "outputs": [
        {
          "data": {
            "text/plain": [
              "[1, 345, 45]"
            ]
          },
          "execution_count": 8,
          "metadata": {},
          "output_type": "execute_result"
        }
      ],
      "source": [
        "l[0:3]"
      ]
    },
    {
      "cell_type": "code",
      "execution_count": null,
      "id": "143d0692-d2d2-4d5d-9ba7-d4ab3b053561",
      "metadata": {
        "id": "143d0692-d2d2-4d5d-9ba7-d4ab3b053561",
        "outputId": "dd9dcd32-1ff1-4669-fc6c-4d8b6de1044d"
      },
      "outputs": [
        {
          "data": {
            "text/plain": [
              "345.456"
            ]
          },
          "execution_count": 9,
          "metadata": {},
          "output_type": "execute_result"
        }
      ],
      "source": [
        "l[-1]"
      ]
    },
    {
      "cell_type": "code",
      "execution_count": null,
      "id": "72077b14-d777-454a-a6db-76e2156bde12",
      "metadata": {
        "id": "72077b14-d777-454a-a6db-76e2156bde12",
        "outputId": "5387db57-9cf2-475a-acf7-799cda488b97"
      },
      "outputs": [
        {
          "data": {
            "text/plain": [
              "[345.456, (5+7j), True, 'sudh', 45, 345, 1]"
            ]
          },
          "execution_count": 10,
          "metadata": {},
          "output_type": "execute_result"
        }
      ],
      "source": [
        "l[::-1]"
      ]
    },
    {
      "cell_type": "code",
      "execution_count": null,
      "id": "b9c75dfa-1935-4204-a87c-6106d35b679a",
      "metadata": {
        "id": "b9c75dfa-1935-4204-a87c-6106d35b679a",
        "outputId": "a540e8c6-0d51-46a2-bbf1-52c7de6ad782"
      },
      "outputs": [
        {
          "data": {
            "text/plain": [
              "[1, 45, True, 345.456]"
            ]
          },
          "execution_count": 11,
          "metadata": {},
          "output_type": "execute_result"
        }
      ],
      "source": [
        "l[::2]"
      ]
    },
    {
      "cell_type": "code",
      "execution_count": null,
      "id": "92e7ef2d-a462-4522-b20d-c65e265b0a3d",
      "metadata": {
        "id": "92e7ef2d-a462-4522-b20d-c65e265b0a3d",
        "outputId": "af41e67e-b951-4cb2-dc1a-c43c3f12eec8"
      },
      "outputs": [
        {
          "data": {
            "text/plain": [
              "[1, 345, 45, 'sudh', True, (5+7j), 345.456]"
            ]
          },
          "execution_count": 12,
          "metadata": {},
          "output_type": "execute_result"
        }
      ],
      "source": [
        "l"
      ]
    },
    {
      "cell_type": "code",
      "execution_count": null,
      "id": "30885a98-4b66-4bae-a7a1-108db08ea7f4",
      "metadata": {
        "id": "30885a98-4b66-4bae-a7a1-108db08ea7f4"
      },
      "outputs": [],
      "source": [
        "s = \"pwskills\""
      ]
    },
    {
      "cell_type": "code",
      "execution_count": null,
      "id": "849ab546-4e87-4647-bafa-f9f43beb222b",
      "metadata": {
        "id": "849ab546-4e87-4647-bafa-f9f43beb222b",
        "outputId": "8ae38ea6-bd4a-4413-fa8c-9c03126ec850"
      },
      "outputs": [
        {
          "ename": "TypeError",
          "evalue": "can only concatenate list (not \"str\") to list",
          "output_type": "error",
          "traceback": [
            "\u001b[0;31m---------------------------------------------------------------------------\u001b[0m",
            "\u001b[0;31mTypeError\u001b[0m                                 Traceback (most recent call last)",
            "Cell \u001b[0;32mIn[14], line 1\u001b[0m\n\u001b[0;32m----> 1\u001b[0m \u001b[43ml\u001b[49m\u001b[38;5;241;43m+\u001b[39;49m\u001b[43ms\u001b[49m\n",
            "\u001b[0;31mTypeError\u001b[0m: can only concatenate list (not \"str\") to list"
          ]
        }
      ],
      "source": [
        "l+s"
      ]
    },
    {
      "cell_type": "code",
      "execution_count": null,
      "id": "afd051da-b034-4de3-aab9-4b891c5e2b31",
      "metadata": {
        "id": "afd051da-b034-4de3-aab9-4b891c5e2b31",
        "outputId": "59f7f53a-1074-46df-bff3-08986d970f3a"
      },
      "outputs": [
        {
          "data": {
            "text/plain": [
              "['p',\n",
              " 'w',\n",
              " 's',\n",
              " 'k',\n",
              " 'i',\n",
              " 'l',\n",
              " 'l',\n",
              " 's',\n",
              " 1,\n",
              " 345,\n",
              " 45,\n",
              " 'sudh',\n",
              " True,\n",
              " (5+7j),\n",
              " 345.456]"
            ]
          },
          "execution_count": 16,
          "metadata": {},
          "output_type": "execute_result"
        }
      ],
      "source": [
        "list(s) + l"
      ]
    },
    {
      "cell_type": "code",
      "execution_count": null,
      "id": "539d21e3-c7c4-4200-9df0-ca6c17f11b85",
      "metadata": {
        "id": "539d21e3-c7c4-4200-9df0-ca6c17f11b85",
        "outputId": "bae2703c-4b40-4f9c-f1af-50f63e5183b2"
      },
      "outputs": [
        {
          "data": {
            "text/plain": [
              "[1, 345, 45, 'sudh', True, (5+7j), 345.456]"
            ]
          },
          "execution_count": 17,
          "metadata": {},
          "output_type": "execute_result"
        }
      ],
      "source": [
        "l"
      ]
    },
    {
      "cell_type": "code",
      "execution_count": null,
      "id": "ec088a2a-b780-4d05-862e-403ad15fca75",
      "metadata": {
        "id": "ec088a2a-b780-4d05-862e-403ad15fca75",
        "outputId": "17a1ac85-e274-4830-abff-0271ae1adf1f"
      },
      "outputs": [
        {
          "data": {
            "text/plain": [
              "str"
            ]
          },
          "execution_count": 19,
          "metadata": {},
          "output_type": "execute_result"
        }
      ],
      "source": [
        "type(l[3])"
      ]
    },
    {
      "cell_type": "code",
      "execution_count": null,
      "id": "93d5626b-48f4-46ca-a66a-3ba2a0221199",
      "metadata": {
        "id": "93d5626b-48f4-46ca-a66a-3ba2a0221199",
        "outputId": "09b90ae2-4092-42c3-fccf-4771bfbd7287"
      },
      "outputs": [
        {
          "data": {
            "text/plain": [
              "'su'"
            ]
          },
          "execution_count": 21,
          "metadata": {},
          "output_type": "execute_result"
        }
      ],
      "source": [
        "l[3][0:2]"
      ]
    },
    {
      "cell_type": "code",
      "execution_count": null,
      "id": "95db1dcf-1765-49c6-86b7-f1a4f67e7282",
      "metadata": {
        "id": "95db1dcf-1765-49c6-86b7-f1a4f67e7282",
        "outputId": "2967450f-a90d-47ae-8041-6c5fc5ab7f71"
      },
      "outputs": [
        {
          "data": {
            "text/plain": [
              "True"
            ]
          },
          "execution_count": 22,
          "metadata": {},
          "output_type": "execute_result"
        }
      ],
      "source": [
        "l[4]"
      ]
    },
    {
      "cell_type": "code",
      "execution_count": null,
      "id": "90485008-f7c0-4549-8de8-cae7513473e4",
      "metadata": {
        "id": "90485008-f7c0-4549-8de8-cae7513473e4",
        "outputId": "8e204e8c-29bf-49f1-ad90-f8c86b768610"
      },
      "outputs": [
        {
          "data": {
            "text/plain": [
              "'Tr'"
            ]
          },
          "execution_count": 24,
          "metadata": {},
          "output_type": "execute_result"
        }
      ],
      "source": [
        "str(l[4])[0:2]"
      ]
    },
    {
      "cell_type": "code",
      "execution_count": null,
      "id": "7ec63b6f-90f9-4237-bcaf-f1ff2648cdfc",
      "metadata": {
        "id": "7ec63b6f-90f9-4237-bcaf-f1ff2648cdfc",
        "outputId": "bf3eab6b-83d5-4da1-c6ab-ff64b8b9cc7d"
      },
      "outputs": [
        {
          "data": {
            "text/plain": [
              "[1, 345, 45, 'sudh', True, (5+7j), 345.456]"
            ]
          },
          "execution_count": 25,
          "metadata": {},
          "output_type": "execute_result"
        }
      ],
      "source": [
        "l"
      ]
    },
    {
      "cell_type": "code",
      "execution_count": null,
      "id": "4af6c594-2025-424f-ade3-ebc3f5d3f5dc",
      "metadata": {
        "id": "4af6c594-2025-424f-ade3-ebc3f5d3f5dc",
        "outputId": "1d3af363-c785-42ae-be7a-cf93aa4687c2"
      },
      "outputs": [
        {
          "ename": "TypeError",
          "evalue": "can only concatenate list (not \"int\") to list",
          "output_type": "error",
          "traceback": [
            "\u001b[0;31m---------------------------------------------------------------------------\u001b[0m",
            "\u001b[0;31mTypeError\u001b[0m                                 Traceback (most recent call last)",
            "Cell \u001b[0;32mIn[26], line 1\u001b[0m\n\u001b[0;32m----> 1\u001b[0m \u001b[43ml\u001b[49m\u001b[38;5;241;43m+\u001b[39;49m\u001b[43m \u001b[49m\u001b[38;5;241;43m5\u001b[39;49m\n",
            "\u001b[0;31mTypeError\u001b[0m: can only concatenate list (not \"int\") to list"
          ]
        }
      ],
      "source": [
        "l+ 5"
      ]
    },
    {
      "cell_type": "code",
      "execution_count": null,
      "id": "97b79f8d-eb48-496b-9ead-ec5023d81012",
      "metadata": {
        "id": "97b79f8d-eb48-496b-9ead-ec5023d81012"
      },
      "outputs": [],
      "source": [
        "l1 = [3,4,5]"
      ]
    },
    {
      "cell_type": "code",
      "execution_count": null,
      "id": "69b5e226-e8a4-4db8-8ebd-26f32a1ed805",
      "metadata": {
        "id": "69b5e226-e8a4-4db8-8ebd-26f32a1ed805",
        "outputId": "2c9fd582-02af-49d3-c74b-c8e36027aff4"
      },
      "outputs": [
        {
          "data": {
            "text/plain": [
              "[1, 345, 45, 'sudh', True, (5+7j), 345.456, 3, 4, 5]"
            ]
          },
          "execution_count": 28,
          "metadata": {},
          "output_type": "execute_result"
        }
      ],
      "source": [
        "l+ l1"
      ]
    },
    {
      "cell_type": "code",
      "execution_count": null,
      "id": "6925449d-cafd-4ba4-a851-c808d19a9a66",
      "metadata": {
        "id": "6925449d-cafd-4ba4-a851-c808d19a9a66",
        "outputId": "715866f8-c575-444a-dce2-884321fbec1e"
      },
      "outputs": [
        {
          "data": {
            "text/plain": [
              "[3, 4, 5, 3, 4, 5, 3, 4, 5]"
            ]
          },
          "execution_count": 30,
          "metadata": {},
          "output_type": "execute_result"
        }
      ],
      "source": [
        "l1 * 3"
      ]
    },
    {
      "cell_type": "code",
      "execution_count": null,
      "id": "f68ae252-1cce-4c7b-b34b-b3318fc5254b",
      "metadata": {
        "id": "f68ae252-1cce-4c7b-b34b-b3318fc5254b",
        "outputId": "b65b9fa9-22f9-42d4-ced1-1233e409df5a"
      },
      "outputs": [
        {
          "data": {
            "text/plain": [
              "[1, 345, 45, 'sudh', True, (5+7j), 345.456]"
            ]
          },
          "execution_count": 31,
          "metadata": {},
          "output_type": "execute_result"
        }
      ],
      "source": [
        "l"
      ]
    },
    {
      "cell_type": "code",
      "execution_count": null,
      "id": "f4ea3f7c-713d-40ca-8887-aac8a72c45bb",
      "metadata": {
        "id": "f4ea3f7c-713d-40ca-8887-aac8a72c45bb",
        "outputId": "448a4e26-35b3-4b07-a38f-23143b6efe2c"
      },
      "outputs": [
        {
          "data": {
            "text/plain": [
              "7"
            ]
          },
          "execution_count": 32,
          "metadata": {},
          "output_type": "execute_result"
        }
      ],
      "source": [
        "len(l)"
      ]
    },
    {
      "cell_type": "code",
      "execution_count": null,
      "id": "c1b4f6f2-e573-4a3e-a7d9-8c7ad9aef408",
      "metadata": {
        "id": "c1b4f6f2-e573-4a3e-a7d9-8c7ad9aef408",
        "outputId": "0364e98a-fc9d-494d-86e7-f54bdd38765b"
      },
      "outputs": [
        {
          "data": {
            "text/plain": [
              "[1, 345, 45, 'sudh', True, (5+7j), 345.456]"
            ]
          },
          "execution_count": 33,
          "metadata": {},
          "output_type": "execute_result"
        }
      ],
      "source": [
        "l"
      ]
    },
    {
      "cell_type": "code",
      "execution_count": null,
      "id": "ecbbbd73-0b17-4f51-bc30-b7385d53a6d6",
      "metadata": {
        "id": "ecbbbd73-0b17-4f51-bc30-b7385d53a6d6"
      },
      "outputs": [],
      "source": [
        "l.append(5)"
      ]
    },
    {
      "cell_type": "code",
      "execution_count": null,
      "id": "eb502875-594e-42d8-889b-f2aa4331e087",
      "metadata": {
        "id": "eb502875-594e-42d8-889b-f2aa4331e087",
        "outputId": "59537e72-55db-49d6-82ba-5a558912e30b"
      },
      "outputs": [
        {
          "data": {
            "text/plain": [
              "[1, 345, 45, 'sudh', True, (5+7j), 345.456, 5]"
            ]
          },
          "execution_count": 35,
          "metadata": {},
          "output_type": "execute_result"
        }
      ],
      "source": [
        "l"
      ]
    },
    {
      "cell_type": "code",
      "execution_count": null,
      "id": "95895183-7d30-4049-ba3f-01ea818f5dc6",
      "metadata": {
        "id": "95895183-7d30-4049-ba3f-01ea818f5dc6"
      },
      "outputs": [],
      "source": [
        "l.append(s)"
      ]
    },
    {
      "cell_type": "code",
      "execution_count": null,
      "id": "37133e37-d391-4599-a3a5-49ed5b552c8e",
      "metadata": {
        "id": "37133e37-d391-4599-a3a5-49ed5b552c8e",
        "outputId": "c102a3f7-85d4-49c9-9fff-d2c59f133e2b"
      },
      "outputs": [
        {
          "data": {
            "text/plain": [
              "'pwskills'"
            ]
          },
          "execution_count": 36,
          "metadata": {},
          "output_type": "execute_result"
        }
      ],
      "source": [
        "s"
      ]
    },
    {
      "cell_type": "code",
      "execution_count": null,
      "id": "260757a2-d534-4f3d-be0b-8ce47fc78610",
      "metadata": {
        "id": "260757a2-d534-4f3d-be0b-8ce47fc78610",
        "outputId": "bc6827a5-0e47-4712-b00d-beb355b8774e"
      },
      "outputs": [
        {
          "data": {
            "text/plain": [
              "[1, 345, 45, 'sudh', True, (5+7j), 345.456, 5, 'pwskills']"
            ]
          },
          "execution_count": 38,
          "metadata": {},
          "output_type": "execute_result"
        }
      ],
      "source": [
        "l"
      ]
    },
    {
      "cell_type": "code",
      "execution_count": null,
      "id": "ad5dd049-4923-4bff-9156-21386c7d7598",
      "metadata": {
        "id": "ad5dd049-4923-4bff-9156-21386c7d7598",
        "outputId": "d2e82300-8fd7-410c-f2d9-825b34a37970"
      },
      "outputs": [
        {
          "data": {
            "text/plain": [
              "[1, 345, 45, 'sudh', True, (5+7j), 345.456, 5, 'pwskills']"
            ]
          },
          "execution_count": 39,
          "metadata": {},
          "output_type": "execute_result"
        }
      ],
      "source": [
        "l"
      ]
    },
    {
      "cell_type": "code",
      "execution_count": null,
      "id": "8fe6cf3d-2bf4-495c-bead-5b38f8ff787c",
      "metadata": {
        "id": "8fe6cf3d-2bf4-495c-bead-5b38f8ff787c",
        "outputId": "1c1ba142-25a7-46b1-89b6-9b3a6a64d470"
      },
      "outputs": [
        {
          "data": {
            "text/plain": [
              "[3, 4, 5]"
            ]
          },
          "execution_count": 40,
          "metadata": {},
          "output_type": "execute_result"
        }
      ],
      "source": [
        "l1"
      ]
    },
    {
      "cell_type": "code",
      "execution_count": null,
      "id": "f38591ef-06f1-4a57-a423-fafae2aa226d",
      "metadata": {
        "id": "f38591ef-06f1-4a57-a423-fafae2aa226d"
      },
      "outputs": [],
      "source": [
        "l.append(l1)"
      ]
    },
    {
      "cell_type": "code",
      "execution_count": null,
      "id": "35e9895b-0e04-457e-9b78-81fcaa655249",
      "metadata": {
        "id": "35e9895b-0e04-457e-9b78-81fcaa655249",
        "outputId": "2ff0ff30-86bf-4419-ae65-23ca3838e899"
      },
      "outputs": [
        {
          "data": {
            "text/plain": [
              "[1, 345, 45, 'sudh', True, (5+7j), 345.456, 5, 'pwskills', [3, 4, 5]]"
            ]
          },
          "execution_count": 42,
          "metadata": {},
          "output_type": "execute_result"
        }
      ],
      "source": [
        "l"
      ]
    },
    {
      "cell_type": "code",
      "execution_count": null,
      "id": "7104ecee-587c-4288-b82b-74f206828109",
      "metadata": {
        "id": "7104ecee-587c-4288-b82b-74f206828109",
        "outputId": "2bcf9a07-e9c8-4c5d-94df-19295c43d24f"
      },
      "outputs": [
        {
          "data": {
            "text/plain": [
              "4"
            ]
          },
          "execution_count": 44,
          "metadata": {},
          "output_type": "execute_result"
        }
      ],
      "source": [
        "l[-1][1]"
      ]
    },
    {
      "cell_type": "code",
      "execution_count": null,
      "id": "84e31b8a-6fb3-4aa6-94f3-da2a45911b4f",
      "metadata": {
        "id": "84e31b8a-6fb3-4aa6-94f3-da2a45911b4f",
        "outputId": "72dd8d02-dea7-4a13-d2e9-8e49b2cfd602"
      },
      "outputs": [
        {
          "data": {
            "text/plain": [
              "[1, 345, 45, 'sudh', True, (5+7j), 345.456, 5, 'pwskills', [3, 4, 5]]"
            ]
          },
          "execution_count": 45,
          "metadata": {},
          "output_type": "execute_result"
        }
      ],
      "source": [
        "l"
      ]
    },
    {
      "cell_type": "code",
      "execution_count": null,
      "id": "a0353cc4-0920-41cb-a427-99126704c884",
      "metadata": {
        "id": "a0353cc4-0920-41cb-a427-99126704c884",
        "outputId": "438209e5-6a65-4523-ff31-65bdce517419"
      },
      "outputs": [
        {
          "ename": "TypeError",
          "evalue": "'int' object is not iterable",
          "output_type": "error",
          "traceback": [
            "\u001b[0;31m---------------------------------------------------------------------------\u001b[0m",
            "\u001b[0;31mTypeError\u001b[0m                                 Traceback (most recent call last)",
            "Cell \u001b[0;32mIn[46], line 1\u001b[0m\n\u001b[0;32m----> 1\u001b[0m \u001b[43ml\u001b[49m\u001b[38;5;241;43m.\u001b[39;49m\u001b[43mextend\u001b[49m\u001b[43m(\u001b[49m\u001b[38;5;241;43m4\u001b[39;49m\u001b[43m)\u001b[49m\n",
            "\u001b[0;31mTypeError\u001b[0m: 'int' object is not iterable"
          ]
        }
      ],
      "source": [
        "l.extend(4)"
      ]
    },
    {
      "cell_type": "code",
      "execution_count": null,
      "id": "cbf52c2a-fb93-4549-bd69-829fc468a2bf",
      "metadata": {
        "id": "cbf52c2a-fb93-4549-bd69-829fc468a2bf"
      },
      "outputs": [],
      "source": [
        "l.extend(\"sudh\")"
      ]
    },
    {
      "cell_type": "code",
      "execution_count": null,
      "id": "a8d5eb56-3f0b-49de-b77b-056f447db959",
      "metadata": {
        "id": "a8d5eb56-3f0b-49de-b77b-056f447db959",
        "outputId": "4a90141d-49e9-477d-c200-4a6b200cd3e1"
      },
      "outputs": [
        {
          "data": {
            "text/plain": [
              "[1,\n",
              " 345,\n",
              " 45,\n",
              " 'sudh',\n",
              " True,\n",
              " (5+7j),\n",
              " 345.456,\n",
              " 5,\n",
              " 'pwskills',\n",
              " [3, 4, 5],\n",
              " 's',\n",
              " 'u',\n",
              " 'd',\n",
              " 'h']"
            ]
          },
          "execution_count": 48,
          "metadata": {},
          "output_type": "execute_result"
        }
      ],
      "source": [
        "l"
      ]
    },
    {
      "cell_type": "code",
      "execution_count": null,
      "id": "685e63e3-e53d-4442-8007-1cafcc0dd02c",
      "metadata": {
        "id": "685e63e3-e53d-4442-8007-1cafcc0dd02c"
      },
      "outputs": [],
      "source": [
        "l.extend([3,4,5])"
      ]
    },
    {
      "cell_type": "code",
      "execution_count": null,
      "id": "67f9263b-beae-4ad5-a24c-d9d31003668a",
      "metadata": {
        "id": "67f9263b-beae-4ad5-a24c-d9d31003668a",
        "outputId": "6296734d-637d-4953-9916-d0d04e8ef8b4"
      },
      "outputs": [
        {
          "data": {
            "text/plain": [
              "[1,\n",
              " 345,\n",
              " 45,\n",
              " 'sudh',\n",
              " True,\n",
              " (5+7j),\n",
              " 345.456,\n",
              " 5,\n",
              " 'pwskills',\n",
              " [3, 4, 5],\n",
              " 's',\n",
              " 'u',\n",
              " 'd',\n",
              " 'h',\n",
              " 3,\n",
              " 4,\n",
              " 5]"
            ]
          },
          "execution_count": 51,
          "metadata": {},
          "output_type": "execute_result"
        }
      ],
      "source": [
        "l"
      ]
    },
    {
      "cell_type": "code",
      "execution_count": null,
      "id": "e0066d6a-0ff2-483b-8d77-24e46afeb8b4",
      "metadata": {
        "id": "e0066d6a-0ff2-483b-8d77-24e46afeb8b4",
        "outputId": "2f2a90f4-4963-410b-bd36-4175a54993d9"
      },
      "outputs": [
        {
          "data": {
            "text/plain": [
              "[3, 4, 5]"
            ]
          },
          "execution_count": 52,
          "metadata": {},
          "output_type": "execute_result"
        }
      ],
      "source": [
        "l1"
      ]
    },
    {
      "cell_type": "code",
      "execution_count": null,
      "id": "be4fd23d-6dcf-4a1f-a73a-c63545666b7e",
      "metadata": {
        "id": "be4fd23d-6dcf-4a1f-a73a-c63545666b7e"
      },
      "outputs": [],
      "source": [
        "l1.insert(1,\"sudh\")"
      ]
    },
    {
      "cell_type": "code",
      "execution_count": null,
      "id": "46410796-825a-4d1b-b02e-bf200b8b0646",
      "metadata": {
        "id": "46410796-825a-4d1b-b02e-bf200b8b0646",
        "outputId": "22adef5d-59c3-41c0-dabf-c9b35fa19627"
      },
      "outputs": [
        {
          "data": {
            "text/plain": [
              "[3, 'sudh', 4, 5]"
            ]
          },
          "execution_count": 54,
          "metadata": {},
          "output_type": "execute_result"
        }
      ],
      "source": [
        "l1"
      ]
    },
    {
      "cell_type": "code",
      "execution_count": null,
      "id": "a2e39ece-451a-4332-9100-b71b3a440edc",
      "metadata": {
        "id": "a2e39ece-451a-4332-9100-b71b3a440edc"
      },
      "outputs": [],
      "source": [
        "l1.insert(2 , [2,3,4])"
      ]
    },
    {
      "cell_type": "code",
      "execution_count": null,
      "id": "b9fd73f8-cf3b-46f6-a7c0-6d1bb9f75b9e",
      "metadata": {
        "id": "b9fd73f8-cf3b-46f6-a7c0-6d1bb9f75b9e",
        "outputId": "197c647c-16b8-4396-bd04-437a36181f05"
      },
      "outputs": [
        {
          "data": {
            "text/plain": [
              "[3, 'sudh', [2, 3, 4], [2, 3, 4], 4, 5]"
            ]
          },
          "execution_count": 58,
          "metadata": {},
          "output_type": "execute_result"
        }
      ],
      "source": [
        "l1"
      ]
    },
    {
      "cell_type": "code",
      "execution_count": null,
      "id": "a0c9258b-5a67-471f-ba9e-cd972130f316",
      "metadata": {
        "id": "a0c9258b-5a67-471f-ba9e-cd972130f316"
      },
      "outputs": [],
      "source": [
        "l1.insert(-1 , 45)"
      ]
    },
    {
      "cell_type": "code",
      "execution_count": null,
      "id": "533eb7da-7815-4383-a627-86b789db9017",
      "metadata": {
        "id": "533eb7da-7815-4383-a627-86b789db9017",
        "outputId": "13d78a4b-3132-4d8f-ee52-e734a5454302"
      },
      "outputs": [
        {
          "data": {
            "text/plain": [
              "[3, 'sudh', [2, 3, 4], [2, 3, 4], 4, 45, 5]"
            ]
          },
          "execution_count": 60,
          "metadata": {},
          "output_type": "execute_result"
        }
      ],
      "source": [
        "l1"
      ]
    },
    {
      "cell_type": "code",
      "execution_count": null,
      "id": "dfe603b5-8a3c-46e7-98ff-0c76f77ecc96",
      "metadata": {
        "id": "dfe603b5-8a3c-46e7-98ff-0c76f77ecc96"
      },
      "outputs": [],
      "source": [
        "l1.insert(0 , 45)"
      ]
    },
    {
      "cell_type": "code",
      "execution_count": null,
      "id": "4c52a091-4116-410b-aed9-7675f7f9b6ea",
      "metadata": {
        "id": "4c52a091-4116-410b-aed9-7675f7f9b6ea",
        "outputId": "c635557a-2e8d-4b9d-ecb4-0a8d28836245"
      },
      "outputs": [
        {
          "data": {
            "text/plain": [
              "[45, 3, 'sudh', [2, 3, 4], [2, 3, 4], 4, 45, 5]"
            ]
          },
          "execution_count": 62,
          "metadata": {},
          "output_type": "execute_result"
        }
      ],
      "source": [
        "l1"
      ]
    },
    {
      "cell_type": "code",
      "execution_count": null,
      "id": "c8fa3187-fbac-4a18-9a8c-d57087041b64",
      "metadata": {
        "id": "c8fa3187-fbac-4a18-9a8c-d57087041b64",
        "outputId": "d45fc899-b10a-4061-81e0-b07806496b8c"
      },
      "outputs": [
        {
          "data": {
            "text/plain": [
              "5"
            ]
          },
          "execution_count": 63,
          "metadata": {},
          "output_type": "execute_result"
        }
      ],
      "source": [
        "l1.pop()"
      ]
    },
    {
      "cell_type": "code",
      "execution_count": null,
      "id": "55b75e2e-1e00-44c7-b96b-13a318722e22",
      "metadata": {
        "id": "55b75e2e-1e00-44c7-b96b-13a318722e22",
        "outputId": "3a4e2de8-94f4-45fb-9c24-5ea9b308bbe6"
      },
      "outputs": [
        {
          "data": {
            "text/plain": [
              "[45, 3, 'sudh', [2, 3, 4], [2, 3, 4], 4, 45]"
            ]
          },
          "execution_count": 64,
          "metadata": {},
          "output_type": "execute_result"
        }
      ],
      "source": [
        "l1"
      ]
    },
    {
      "cell_type": "code",
      "execution_count": null,
      "id": "db9dca71-23e9-45b9-a76b-e05435185c00",
      "metadata": {
        "id": "db9dca71-23e9-45b9-a76b-e05435185c00",
        "outputId": "6b035d9c-ea64-4ad9-fd84-14938bd7f2bc"
      },
      "outputs": [
        {
          "data": {
            "text/plain": [
              "45"
            ]
          },
          "execution_count": 65,
          "metadata": {},
          "output_type": "execute_result"
        }
      ],
      "source": [
        "l1.pop()"
      ]
    },
    {
      "cell_type": "code",
      "execution_count": null,
      "id": "9c745036-9be6-470a-8262-bc0e49e6451d",
      "metadata": {
        "id": "9c745036-9be6-470a-8262-bc0e49e6451d",
        "outputId": "9e40f2ef-996f-4d61-a845-0cd2813e6722"
      },
      "outputs": [
        {
          "data": {
            "text/plain": [
              "[45, 3, 'sudh', [2, 3, 4], [2, 3, 4], 4]"
            ]
          },
          "execution_count": 66,
          "metadata": {},
          "output_type": "execute_result"
        }
      ],
      "source": [
        "l1"
      ]
    },
    {
      "cell_type": "code",
      "execution_count": null,
      "id": "388b4f04-74b5-4d9a-97b2-e1402c41cc78",
      "metadata": {
        "id": "388b4f04-74b5-4d9a-97b2-e1402c41cc78",
        "outputId": "f6fd0d99-7507-4874-8fcd-9e610fd4f518"
      },
      "outputs": [
        {
          "data": {
            "text/plain": [
              "[2, 3, 4]"
            ]
          },
          "execution_count": 67,
          "metadata": {},
          "output_type": "execute_result"
        }
      ],
      "source": [
        "l1.pop(3)"
      ]
    },
    {
      "cell_type": "code",
      "execution_count": null,
      "id": "c4c43495-007d-4650-a6fe-b0a703c25b84",
      "metadata": {
        "id": "c4c43495-007d-4650-a6fe-b0a703c25b84",
        "outputId": "1d07d53d-ab47-4cc7-8678-a7c54a6126d0"
      },
      "outputs": [
        {
          "data": {
            "text/plain": [
              "[45, 3, 'sudh', [2, 3, 4], 4]"
            ]
          },
          "execution_count": 68,
          "metadata": {},
          "output_type": "execute_result"
        }
      ],
      "source": [
        "l1"
      ]
    },
    {
      "cell_type": "code",
      "execution_count": null,
      "id": "419a91c8-0a4b-4bf6-8239-9b7ec8dbe8fc",
      "metadata": {
        "id": "419a91c8-0a4b-4bf6-8239-9b7ec8dbe8fc",
        "outputId": "4abf0631-7198-492c-d26b-1aeb500f05a6"
      },
      "outputs": [
        {
          "data": {
            "text/plain": [
              "[45, 3, 'sudh', [2, 3, 4], 4]"
            ]
          },
          "execution_count": 69,
          "metadata": {},
          "output_type": "execute_result"
        }
      ],
      "source": [
        "l1"
      ]
    },
    {
      "cell_type": "code",
      "execution_count": null,
      "id": "de69f839-c7da-45b8-9b6b-95779d2db18f",
      "metadata": {
        "id": "de69f839-c7da-45b8-9b6b-95779d2db18f"
      },
      "outputs": [],
      "source": [
        "l1.remove(3)"
      ]
    },
    {
      "cell_type": "code",
      "execution_count": null,
      "id": "2749c86f-00fa-4f2f-a2a1-5f95b651824f",
      "metadata": {
        "id": "2749c86f-00fa-4f2f-a2a1-5f95b651824f",
        "outputId": "9970d108-a097-48be-fffd-621880248b9c"
      },
      "outputs": [
        {
          "data": {
            "text/plain": [
              "[45, 'sudh', [2, 3, 4], 4]"
            ]
          },
          "execution_count": 71,
          "metadata": {},
          "output_type": "execute_result"
        }
      ],
      "source": [
        "l1"
      ]
    },
    {
      "cell_type": "code",
      "execution_count": null,
      "id": "fc3a48a0-26c6-485a-80c6-e151c3bc2066",
      "metadata": {
        "id": "fc3a48a0-26c6-485a-80c6-e151c3bc2066",
        "outputId": "0e7eb5c4-6835-4882-ff30-bbc61b6c305e"
      },
      "outputs": [
        {
          "ename": "ValueError",
          "evalue": "list.remove(x): x not in list",
          "output_type": "error",
          "traceback": [
            "\u001b[0;31m---------------------------------------------------------------------------\u001b[0m",
            "\u001b[0;31mValueError\u001b[0m                                Traceback (most recent call last)",
            "Cell \u001b[0;32mIn[72], line 1\u001b[0m\n\u001b[0;32m----> 1\u001b[0m \u001b[43ml1\u001b[49m\u001b[38;5;241;43m.\u001b[39;49m\u001b[43mremove\u001b[49m\u001b[43m(\u001b[49m\u001b[38;5;241;43m234\u001b[39;49m\u001b[43m)\u001b[49m\n",
            "\u001b[0;31mValueError\u001b[0m: list.remove(x): x not in list"
          ]
        }
      ],
      "source": [
        "l1.remove(234)"
      ]
    },
    {
      "cell_type": "code",
      "execution_count": null,
      "id": "8ae8d2ff-57cd-49ac-b822-4ddf8f6f41b6",
      "metadata": {
        "id": "8ae8d2ff-57cd-49ac-b822-4ddf8f6f41b6"
      },
      "outputs": [],
      "source": [
        "l1[2].remove(3)"
      ]
    },
    {
      "cell_type": "code",
      "execution_count": null,
      "id": "8df9a004-0aa6-4ddb-8849-70dad15ea4a2",
      "metadata": {
        "id": "8df9a004-0aa6-4ddb-8849-70dad15ea4a2",
        "outputId": "2e5f072f-8ea1-4ae0-8170-8f8351095350"
      },
      "outputs": [
        {
          "data": {
            "text/plain": [
              "[45, 'sudh', [2, 4], 4]"
            ]
          },
          "execution_count": 75,
          "metadata": {},
          "output_type": "execute_result"
        }
      ],
      "source": [
        "l1"
      ]
    },
    {
      "cell_type": "code",
      "execution_count": null,
      "id": "6b4455d9-6b21-4d1d-bedd-3ea0e4599aab",
      "metadata": {
        "id": "6b4455d9-6b21-4d1d-bedd-3ea0e4599aab"
      },
      "outputs": [],
      "source": [
        "l1.append(4)"
      ]
    },
    {
      "cell_type": "code",
      "execution_count": null,
      "id": "72505858-f041-45d8-83ee-243c5c11ecb8",
      "metadata": {
        "id": "72505858-f041-45d8-83ee-243c5c11ecb8",
        "outputId": "0d86de45-aad1-4232-ac14-c757689c5f29"
      },
      "outputs": [
        {
          "data": {
            "text/plain": [
              "[45, 'sudh', [2, 4], 4, 4]"
            ]
          },
          "execution_count": 77,
          "metadata": {},
          "output_type": "execute_result"
        }
      ],
      "source": [
        "l1"
      ]
    },
    {
      "cell_type": "code",
      "execution_count": null,
      "id": "2fcf7bee-1323-4f50-9661-99891228793d",
      "metadata": {
        "id": "2fcf7bee-1323-4f50-9661-99891228793d"
      },
      "outputs": [],
      "source": [
        "l1.remove(4)"
      ]
    },
    {
      "cell_type": "code",
      "execution_count": null,
      "id": "31f4453f-5c9a-42ae-a40b-5c9c49e43a66",
      "metadata": {
        "id": "31f4453f-5c9a-42ae-a40b-5c9c49e43a66",
        "outputId": "0eb41c01-c2db-4b4b-a1c1-cf699f4e1f9f"
      },
      "outputs": [
        {
          "data": {
            "text/plain": [
              "[45, 'sudh', [2, 4], 4]"
            ]
          },
          "execution_count": 79,
          "metadata": {},
          "output_type": "execute_result"
        }
      ],
      "source": [
        "l1"
      ]
    },
    {
      "cell_type": "code",
      "execution_count": null,
      "id": "73e799bb-6755-4d62-933b-ee451686381c",
      "metadata": {
        "id": "73e799bb-6755-4d62-933b-ee451686381c",
        "outputId": "35aa9fdf-224b-437b-d4ac-50445f1e9153"
      },
      "outputs": [
        {
          "data": {
            "text/plain": [
              "[45, 'sudh', [2, 4], 4]"
            ]
          },
          "execution_count": 80,
          "metadata": {},
          "output_type": "execute_result"
        }
      ],
      "source": [
        "l1"
      ]
    },
    {
      "cell_type": "code",
      "execution_count": null,
      "id": "801a68da-97f2-43e6-9591-4d5038007f34",
      "metadata": {
        "id": "801a68da-97f2-43e6-9591-4d5038007f34",
        "outputId": "2ccf6d88-9f9a-45a0-ffd1-489ea90472f3"
      },
      "outputs": [
        {
          "data": {
            "text/plain": [
              "[4, [2, 4], 'sudh', 45]"
            ]
          },
          "execution_count": 81,
          "metadata": {},
          "output_type": "execute_result"
        }
      ],
      "source": [
        "l1 = l1[::-1]"
      ]
    },
    {
      "cell_type": "code",
      "execution_count": null,
      "id": "b8018775-9792-45a2-a989-56a0ae16c2de",
      "metadata": {
        "id": "b8018775-9792-45a2-a989-56a0ae16c2de"
      },
      "outputs": [],
      "source": [
        "l1.reverse()"
      ]
    },
    {
      "cell_type": "code",
      "execution_count": null,
      "id": "52c3b26c-f113-401e-a5b4-144942a9acc4",
      "metadata": {
        "id": "52c3b26c-f113-401e-a5b4-144942a9acc4",
        "outputId": "5d54ee57-7fcb-4278-b033-c18e04ee5768"
      },
      "outputs": [
        {
          "data": {
            "text/plain": [
              "[4, [2, 4], 'sudh', 45]"
            ]
          },
          "execution_count": 83,
          "metadata": {},
          "output_type": "execute_result"
        }
      ],
      "source": [
        "l1"
      ]
    },
    {
      "cell_type": "code",
      "execution_count": null,
      "id": "bb0803e0-5406-4cfa-a084-12f711e1d075",
      "metadata": {
        "id": "bb0803e0-5406-4cfa-a084-12f711e1d075",
        "outputId": "752592b0-10e4-4eb3-9924-ef61d564324c"
      },
      "outputs": [
        {
          "data": {
            "text/plain": [
              "[4, [2, 4], 'sudh', 45]"
            ]
          },
          "execution_count": 84,
          "metadata": {},
          "output_type": "execute_result"
        }
      ],
      "source": [
        "l1"
      ]
    },
    {
      "cell_type": "code",
      "execution_count": null,
      "id": "9308f0ba-5e02-4b27-9fdf-98fddb1800a8",
      "metadata": {
        "id": "9308f0ba-5e02-4b27-9fdf-98fddb1800a8",
        "outputId": "516497b3-75b6-418a-df4e-4c94b8ceefbf"
      },
      "outputs": [
        {
          "ename": "TypeError",
          "evalue": "'<' not supported between instances of 'list' and 'int'",
          "output_type": "error",
          "traceback": [
            "\u001b[0;31m---------------------------------------------------------------------------\u001b[0m",
            "\u001b[0;31mTypeError\u001b[0m                                 Traceback (most recent call last)",
            "Cell \u001b[0;32mIn[85], line 1\u001b[0m\n\u001b[0;32m----> 1\u001b[0m \u001b[43ml1\u001b[49m\u001b[38;5;241;43m.\u001b[39;49m\u001b[43msort\u001b[49m\u001b[43m(\u001b[49m\u001b[43m)\u001b[49m\n",
            "\u001b[0;31mTypeError\u001b[0m: '<' not supported between instances of 'list' and 'int'"
          ]
        }
      ],
      "source": [
        "l1.sort()"
      ]
    },
    {
      "cell_type": "code",
      "execution_count": null,
      "id": "e12d1522-3e34-4d2b-b939-7520513693ad",
      "metadata": {
        "id": "e12d1522-3e34-4d2b-b939-7520513693ad"
      },
      "outputs": [],
      "source": [
        "l2 = [45,23,90,0,3,4,5,6,7,8,9]"
      ]
    },
    {
      "cell_type": "code",
      "execution_count": null,
      "id": "b24295db-d862-4484-8fe4-2b447f89d27d",
      "metadata": {
        "id": "b24295db-d862-4484-8fe4-2b447f89d27d"
      },
      "outputs": [],
      "source": [
        "l2.sort()"
      ]
    },
    {
      "cell_type": "code",
      "execution_count": null,
      "id": "64effa6b-88e6-4c13-a451-186e427a7e40",
      "metadata": {
        "id": "64effa6b-88e6-4c13-a451-186e427a7e40",
        "outputId": "4c5f608d-9daa-42b5-d17c-4113f75f2f6d"
      },
      "outputs": [
        {
          "data": {
            "text/plain": [
              "[0, 3, 4, 5, 6, 7, 8, 9, 23, 45, 90]"
            ]
          },
          "execution_count": 91,
          "metadata": {},
          "output_type": "execute_result"
        }
      ],
      "source": [
        "l2"
      ]
    },
    {
      "cell_type": "code",
      "execution_count": null,
      "id": "dd8cd691-d671-472d-ba5b-96f0a54b13bb",
      "metadata": {
        "id": "dd8cd691-d671-472d-ba5b-96f0a54b13bb",
        "outputId": "849605fc-075e-4c4d-dc4a-12736ce312f1"
      },
      "outputs": [
        {
          "data": {
            "text/plain": [
              "[0, 3, 4, 5, 6, 7, 8, 9, 23, 45, 90]"
            ]
          },
          "execution_count": 92,
          "metadata": {},
          "output_type": "execute_result"
        }
      ],
      "source": [
        "l2"
      ]
    },
    {
      "cell_type": "code",
      "execution_count": null,
      "id": "eaee0d57-f30e-4f25-b194-bd5481df660c",
      "metadata": {
        "id": "eaee0d57-f30e-4f25-b194-bd5481df660c"
      },
      "outputs": [],
      "source": [
        "l3 = [34,\"sudh\",45,12,\"kumar\"]"
      ]
    },
    {
      "cell_type": "code",
      "execution_count": null,
      "id": "4e76f1a2-3492-4739-b191-3f7472e059d1",
      "metadata": {
        "id": "4e76f1a2-3492-4739-b191-3f7472e059d1",
        "outputId": "7475275d-6447-4f2c-c360-22f50d0d241f"
      },
      "outputs": [
        {
          "ename": "TypeError",
          "evalue": "'<' not supported between instances of 'str' and 'int'",
          "output_type": "error",
          "traceback": [
            "\u001b[0;31m---------------------------------------------------------------------------\u001b[0m",
            "\u001b[0;31mTypeError\u001b[0m                                 Traceback (most recent call last)",
            "Cell \u001b[0;32mIn[94], line 1\u001b[0m\n\u001b[0;32m----> 1\u001b[0m \u001b[43ml3\u001b[49m\u001b[38;5;241;43m.\u001b[39;49m\u001b[43msort\u001b[49m\u001b[43m(\u001b[49m\u001b[43m)\u001b[49m\n",
            "\u001b[0;31mTypeError\u001b[0m: '<' not supported between instances of 'str' and 'int'"
          ]
        }
      ],
      "source": [
        "l3.sort()"
      ]
    },
    {
      "cell_type": "code",
      "execution_count": null,
      "id": "163782b7-f9be-4c6e-b134-9527ce66fe1f",
      "metadata": {
        "id": "163782b7-f9be-4c6e-b134-9527ce66fe1f"
      },
      "outputs": [],
      "source": [
        "l4 = [\"sudh\" , \"kumar\" , \"pwskills\" , \"data science\"]"
      ]
    },
    {
      "cell_type": "code",
      "execution_count": null,
      "id": "b4dbcc39-ed42-4321-bc99-bd56662176d1",
      "metadata": {
        "id": "b4dbcc39-ed42-4321-bc99-bd56662176d1"
      },
      "outputs": [],
      "source": [
        "l4.sort(reverse=True)"
      ]
    },
    {
      "cell_type": "code",
      "execution_count": null,
      "id": "985c7546-46d4-4340-ad2b-5d470e8230bf",
      "metadata": {
        "id": "985c7546-46d4-4340-ad2b-5d470e8230bf",
        "outputId": "fee17258-0cfc-4b07-f455-4b294883f3ec"
      },
      "outputs": [
        {
          "data": {
            "text/plain": [
              "['sudh', 'pwskills', 'kumar', 'data science']"
            ]
          },
          "execution_count": 99,
          "metadata": {},
          "output_type": "execute_result"
        }
      ],
      "source": [
        "l4"
      ]
    },
    {
      "cell_type": "code",
      "execution_count": null,
      "id": "058c1bc8-6942-4b27-bce2-0173ed4048a9",
      "metadata": {
        "id": "058c1bc8-6942-4b27-bce2-0173ed4048a9",
        "outputId": "e0a743a5-b993-40aa-f8c9-33b13449789c"
      },
      "outputs": [
        {
          "data": {
            "text/plain": [
              "['sudh', 'pwskills', 'kumar', 'data science']"
            ]
          },
          "execution_count": 100,
          "metadata": {},
          "output_type": "execute_result"
        }
      ],
      "source": [
        "l4"
      ]
    },
    {
      "cell_type": "code",
      "execution_count": null,
      "id": "41df8f5a-9f3d-4cab-80b4-2542071a46ba",
      "metadata": {
        "id": "41df8f5a-9f3d-4cab-80b4-2542071a46ba",
        "outputId": "be9fac4a-041e-4fe1-9272-7e3abb29921f"
      },
      "outputs": [
        {
          "data": {
            "text/plain": [
              "0"
            ]
          },
          "execution_count": 101,
          "metadata": {},
          "output_type": "execute_result"
        }
      ],
      "source": [
        "l4.index(\"sudh\")"
      ]
    },
    {
      "cell_type": "code",
      "execution_count": null,
      "id": "71e16c1b-9c46-42e4-a355-564d5dc2d933",
      "metadata": {
        "id": "71e16c1b-9c46-42e4-a355-564d5dc2d933",
        "outputId": "0c2ec54d-289e-4f03-f72a-9947fe17021e"
      },
      "outputs": [
        {
          "data": {
            "text/plain": [
              "1"
            ]
          },
          "execution_count": 102,
          "metadata": {},
          "output_type": "execute_result"
        }
      ],
      "source": [
        "l4.count(\"sudh\")"
      ]
    },
    {
      "cell_type": "code",
      "execution_count": null,
      "id": "68e76fa3-301c-4e6b-84de-f9987fe31171",
      "metadata": {
        "id": "68e76fa3-301c-4e6b-84de-f9987fe31171"
      },
      "outputs": [],
      "source": [
        "s= \"sudh\""
      ]
    },
    {
      "cell_type": "code",
      "execution_count": null,
      "id": "4b753c86-5523-4efe-8170-10ea64777143",
      "metadata": {
        "id": "4b753c86-5523-4efe-8170-10ea64777143"
      },
      "outputs": [],
      "source": [
        "l5 = [3,4,5,6]"
      ]
    },
    {
      "cell_type": "code",
      "execution_count": null,
      "id": "080b6e8b-cf59-4fee-8739-116ed475f9df",
      "metadata": {
        "id": "080b6e8b-cf59-4fee-8739-116ed475f9df",
        "outputId": "b1657d97-d139-4598-90f6-dd02e451f375"
      },
      "outputs": [
        {
          "ename": "TypeError",
          "evalue": "'str' object does not support item assignment",
          "output_type": "error",
          "traceback": [
            "\u001b[0;31m---------------------------------------------------------------------------\u001b[0m",
            "\u001b[0;31mTypeError\u001b[0m                                 Traceback (most recent call last)",
            "Cell \u001b[0;32mIn[106], line 1\u001b[0m\n\u001b[0;32m----> 1\u001b[0m \u001b[43ms\u001b[49m\u001b[43m[\u001b[49m\u001b[38;5;241;43m0\u001b[39;49m\u001b[43m]\u001b[49m \u001b[38;5;241m=\u001b[39m \u001b[38;5;124m'\u001b[39m\u001b[38;5;124ma\u001b[39m\u001b[38;5;124m'\u001b[39m\n",
            "\u001b[0;31mTypeError\u001b[0m: 'str' object does not support item assignment"
          ]
        }
      ],
      "source": [
        "s[0] = 'a'"
      ]
    },
    {
      "cell_type": "code",
      "execution_count": null,
      "id": "89a4fa3f-ee7c-4814-a855-0869c82608cf",
      "metadata": {
        "id": "89a4fa3f-ee7c-4814-a855-0869c82608cf"
      },
      "outputs": [],
      "source": [
        "l5[0] = 30"
      ]
    },
    {
      "cell_type": "code",
      "execution_count": null,
      "id": "0edd5445-514f-4a42-b2dc-243aa957086e",
      "metadata": {
        "id": "0edd5445-514f-4a42-b2dc-243aa957086e",
        "outputId": "900f5af3-fe47-4d9b-a438-e1b1ea0d6be2"
      },
      "outputs": [
        {
          "data": {
            "text/plain": [
              "[30, 4, 5, 6]"
            ]
          },
          "execution_count": 109,
          "metadata": {},
          "output_type": "execute_result"
        }
      ],
      "source": [
        "l5"
      ]
    },
    {
      "cell_type": "code",
      "execution_count": null,
      "id": "fb0c020d-643a-4fce-8d14-c456a16cd811",
      "metadata": {
        "id": "fb0c020d-643a-4fce-8d14-c456a16cd811",
        "outputId": "2efe38b0-6480-4978-cc10-9014ce6516d6"
      },
      "outputs": [
        {
          "data": {
            "text/plain": [
              "'sudh'"
            ]
          },
          "execution_count": 110,
          "metadata": {},
          "output_type": "execute_result"
        }
      ],
      "source": [
        "s"
      ]
    },
    {
      "cell_type": "code",
      "execution_count": null,
      "id": "425d956f-bb07-4b6c-91ef-e25c9affe145",
      "metadata": {
        "id": "425d956f-bb07-4b6c-91ef-e25c9affe145",
        "outputId": "6474cac2-358b-4b5a-8e4f-a5d4a79a87c0"
      },
      "outputs": [
        {
          "data": {
            "text/plain": [
              "'audh'"
            ]
          },
          "execution_count": 113,
          "metadata": {},
          "output_type": "execute_result"
        }
      ],
      "source": [
        "s.replace('s' , 'a')"
      ]
    },
    {
      "cell_type": "code",
      "execution_count": null,
      "id": "c0a39d1a-e78c-4d05-932b-df26f72c733c",
      "metadata": {
        "id": "c0a39d1a-e78c-4d05-932b-df26f72c733c",
        "outputId": "d7770c1f-a6a7-455d-b654-613c1824dc57"
      },
      "outputs": [
        {
          "data": {
            "text/plain": [
              "'sudh'"
            ]
          },
          "execution_count": 112,
          "metadata": {},
          "output_type": "execute_result"
        }
      ],
      "source": [
        "s"
      ]
    },
    {
      "cell_type": "code",
      "execution_count": null,
      "id": "af37d671-c116-4d64-b579-24d41783acb7",
      "metadata": {
        "id": "af37d671-c116-4d64-b579-24d41783acb7"
      },
      "outputs": [],
      "source": [
        "t = (2,3,4,5,\"sudh\" , 45.56, False , 45+457j , [3,4,5] )"
      ]
    },
    {
      "cell_type": "code",
      "execution_count": null,
      "id": "99555c69-e606-435e-920b-5b1f85f62bd2",
      "metadata": {
        "id": "99555c69-e606-435e-920b-5b1f85f62bd2",
        "outputId": "88c3895a-aab5-4b28-fc83-42b21a8fd121"
      },
      "outputs": [
        {
          "data": {
            "text/plain": [
              "(2, 3, 4, 5, 'sudh', 45.56, False, (45+457j), [3, 4, 5])"
            ]
          },
          "execution_count": 116,
          "metadata": {},
          "output_type": "execute_result"
        }
      ],
      "source": [
        "t"
      ]
    },
    {
      "cell_type": "code",
      "execution_count": null,
      "id": "01d3cb40-274a-48a1-9b14-5b6211983d90",
      "metadata": {
        "id": "01d3cb40-274a-48a1-9b14-5b6211983d90",
        "outputId": "4df050b6-32f5-48f8-8721-2e140e8917b3"
      },
      "outputs": [
        {
          "data": {
            "text/plain": [
              "tuple"
            ]
          },
          "execution_count": 117,
          "metadata": {},
          "output_type": "execute_result"
        }
      ],
      "source": [
        "type(t)"
      ]
    },
    {
      "cell_type": "code",
      "execution_count": null,
      "id": "6471ef16-bd20-473f-84aa-05385d86b736",
      "metadata": {
        "id": "6471ef16-bd20-473f-84aa-05385d86b736",
        "outputId": "46cbcd20-b2c2-4eaf-b81b-105856d4d87d"
      },
      "outputs": [
        {
          "data": {
            "text/plain": [
              "9"
            ]
          },
          "execution_count": 118,
          "metadata": {},
          "output_type": "execute_result"
        }
      ],
      "source": [
        "len(t)"
      ]
    },
    {
      "cell_type": "code",
      "execution_count": null,
      "id": "d3783fb9-5ce1-445e-905f-920438806835",
      "metadata": {
        "id": "d3783fb9-5ce1-445e-905f-920438806835",
        "outputId": "9bcdf948-41ba-4408-a3a8-0f861eee806f"
      },
      "outputs": [
        {
          "data": {
            "text/plain": [
              "2"
            ]
          },
          "execution_count": 119,
          "metadata": {},
          "output_type": "execute_result"
        }
      ],
      "source": [
        "t[0]"
      ]
    },
    {
      "cell_type": "code",
      "execution_count": null,
      "id": "1ad98040-c3fc-4bbc-b039-856c3b9d900b",
      "metadata": {
        "id": "1ad98040-c3fc-4bbc-b039-856c3b9d900b",
        "outputId": "5aac7b20-539e-4452-e05d-20bb19d297f1"
      },
      "outputs": [
        {
          "data": {
            "text/plain": [
              "[3, 4, 5]"
            ]
          },
          "execution_count": 120,
          "metadata": {},
          "output_type": "execute_result"
        }
      ],
      "source": [
        "t[-1]"
      ]
    },
    {
      "cell_type": "code",
      "execution_count": null,
      "id": "8561e7c9-b7f2-4189-a65c-6bcb66fc505c",
      "metadata": {
        "id": "8561e7c9-b7f2-4189-a65c-6bcb66fc505c",
        "outputId": "c614ada1-9018-45ff-ceb8-e74479977a3a"
      },
      "outputs": [
        {
          "data": {
            "text/plain": [
              "([3, 4, 5], (45+457j), False, 45.56, 'sudh', 5, 4, 3, 2)"
            ]
          },
          "execution_count": 121,
          "metadata": {},
          "output_type": "execute_result"
        }
      ],
      "source": [
        "t[::-1]"
      ]
    },
    {
      "cell_type": "code",
      "execution_count": null,
      "id": "a8a5d2ea-0f3c-4c5e-b6a1-a4b4175af331",
      "metadata": {
        "id": "a8a5d2ea-0f3c-4c5e-b6a1-a4b4175af331",
        "outputId": "031722d2-64ab-4e9b-a366-57f1a7fa8df2"
      },
      "outputs": [
        {
          "data": {
            "text/plain": [
              "['sudh', 'pwskills', 'kumar', 'data science']"
            ]
          },
          "execution_count": 122,
          "metadata": {},
          "output_type": "execute_result"
        }
      ],
      "source": [
        "l4"
      ]
    },
    {
      "cell_type": "code",
      "execution_count": null,
      "id": "a2e42340-d052-418a-9c79-d7a9004d2f54",
      "metadata": {
        "id": "a2e42340-d052-418a-9c79-d7a9004d2f54"
      },
      "outputs": [],
      "source": [
        "l4[0] = 23424"
      ]
    },
    {
      "cell_type": "code",
      "execution_count": null,
      "id": "a52276fd-e96a-4d79-915d-64dde9962421",
      "metadata": {
        "id": "a52276fd-e96a-4d79-915d-64dde9962421",
        "outputId": "55208ef5-ee3a-47de-fe4b-7bc1c64cb313"
      },
      "outputs": [
        {
          "data": {
            "text/plain": [
              "[23424, 'pwskills', 'kumar', 'data science']"
            ]
          },
          "execution_count": 125,
          "metadata": {},
          "output_type": "execute_result"
        }
      ],
      "source": [
        "l4"
      ]
    },
    {
      "cell_type": "code",
      "execution_count": null,
      "id": "724c4992-26bf-4773-b94f-ae5cd7e9ab2f",
      "metadata": {
        "id": "724c4992-26bf-4773-b94f-ae5cd7e9ab2f",
        "outputId": "1a4d8f69-398e-472c-9772-33872ac0cfeb"
      },
      "outputs": [
        {
          "data": {
            "text/plain": [
              "(2, 3, 4, 5, 'sudh', 45.56, False, (45+457j), [3, 4, 5])"
            ]
          },
          "execution_count": 126,
          "metadata": {},
          "output_type": "execute_result"
        }
      ],
      "source": [
        "t"
      ]
    },
    {
      "cell_type": "code",
      "execution_count": null,
      "id": "3a41e7a8-19d0-4d15-8016-6ff554af0d08",
      "metadata": {
        "id": "3a41e7a8-19d0-4d15-8016-6ff554af0d08",
        "outputId": "caf22f5a-05d7-4cbc-d6ee-81ddd7d5f90c"
      },
      "outputs": [
        {
          "ename": "TypeError",
          "evalue": "'tuple' object does not support item assignment",
          "output_type": "error",
          "traceback": [
            "\u001b[0;31m---------------------------------------------------------------------------\u001b[0m",
            "\u001b[0;31mTypeError\u001b[0m                                 Traceback (most recent call last)",
            "Cell \u001b[0;32mIn[128], line 1\u001b[0m\n\u001b[0;32m----> 1\u001b[0m \u001b[43mt\u001b[49m\u001b[43m[\u001b[49m\u001b[38;5;241;43m0\u001b[39;49m\u001b[43m]\u001b[49m \u001b[38;5;241m=\u001b[39m \u001b[38;5;124m\"\u001b[39m\u001b[38;5;124msudh\u001b[39m\u001b[38;5;124m\"\u001b[39m\n",
            "\u001b[0;31mTypeError\u001b[0m: 'tuple' object does not support item assignment"
          ]
        }
      ],
      "source": [
        "t[0] = \"sudh\""
      ]
    },
    {
      "cell_type": "code",
      "execution_count": null,
      "id": "9908d4ae-a9d2-441f-bc2e-60be67faba8d",
      "metadata": {
        "id": "9908d4ae-a9d2-441f-bc2e-60be67faba8d",
        "outputId": "db0df707-f990-487c-cb2e-9d27aa468474"
      },
      "outputs": [
        {
          "data": {
            "text/plain": [
              "([3, 4, 5], (45+457j), False, 45.56, 'sudh', 5, 4, 3, 2)"
            ]
          },
          "execution_count": 130,
          "metadata": {},
          "output_type": "execute_result"
        }
      ],
      "source": [
        "t[::-1]"
      ]
    },
    {
      "cell_type": "code",
      "execution_count": null,
      "id": "7ea426ac-4b10-40ca-b748-bccc718e5fc3",
      "metadata": {
        "id": "7ea426ac-4b10-40ca-b748-bccc718e5fc3",
        "outputId": "f32dc06c-efc5-4e22-8fb7-d1748d90bf55"
      },
      "outputs": [
        {
          "data": {
            "text/plain": [
              "0"
            ]
          },
          "execution_count": 132,
          "metadata": {},
          "output_type": "execute_result"
        }
      ],
      "source": [
        "t.count(50)"
      ]
    },
    {
      "cell_type": "code",
      "execution_count": null,
      "id": "599a154c-0e32-46ea-95c2-0b1890b8befb",
      "metadata": {
        "id": "599a154c-0e32-46ea-95c2-0b1890b8befb",
        "outputId": "d65be59a-3f05-4a2d-da08-5ddae8ecabc1"
      },
      "outputs": [
        {
          "data": {
            "text/plain": [
              "6"
            ]
          },
          "execution_count": 133,
          "metadata": {},
          "output_type": "execute_result"
        }
      ],
      "source": [
        "t.index(False)"
      ]
    },
    {
      "cell_type": "code",
      "execution_count": null,
      "id": "647cab93-e9b2-437e-93c6-ba20e8bbea36",
      "metadata": {
        "id": "647cab93-e9b2-437e-93c6-ba20e8bbea36",
        "outputId": "83f40137-8d66-4796-b0f6-7f288ca31126"
      },
      "outputs": [
        {
          "data": {
            "text/plain": [
              "(2, 3, 4, 5, 'sudh', 45.56, False, (45+457j), [3, 4, 5])"
            ]
          },
          "execution_count": 134,
          "metadata": {},
          "output_type": "execute_result"
        }
      ],
      "source": [
        "t"
      ]
    },
    {
      "cell_type": "code",
      "execution_count": null,
      "id": "06358c4b-54c1-4963-b252-234683c2ca0b",
      "metadata": {
        "id": "06358c4b-54c1-4963-b252-234683c2ca0b"
      },
      "outputs": [],
      "source": [
        "s1 = {}"
      ]
    },
    {
      "cell_type": "code",
      "execution_count": null,
      "id": "1721bc68-7695-4590-98a0-3d66e57e63e0",
      "metadata": {
        "id": "1721bc68-7695-4590-98a0-3d66e57e63e0",
        "outputId": "57b41fd6-4222-4246-c179-571d577854d7"
      },
      "outputs": [
        {
          "data": {
            "text/plain": [
              "dict"
            ]
          },
          "execution_count": 136,
          "metadata": {},
          "output_type": "execute_result"
        }
      ],
      "source": [
        "type(s1)"
      ]
    },
    {
      "cell_type": "code",
      "execution_count": null,
      "id": "d3d5d7a9-7bd0-4832-8da3-b3e578c1af98",
      "metadata": {
        "id": "d3d5d7a9-7bd0-4832-8da3-b3e578c1af98"
      },
      "outputs": [],
      "source": [
        "s2 = {2,3,4,55,6}"
      ]
    },
    {
      "cell_type": "code",
      "execution_count": null,
      "id": "868e3ec0-73c4-4a9d-a1be-38b58e92079c",
      "metadata": {
        "id": "868e3ec0-73c4-4a9d-a1be-38b58e92079c",
        "outputId": "aedd2af0-364f-4787-ed1c-d11521daa22d"
      },
      "outputs": [
        {
          "data": {
            "text/plain": [
              "set"
            ]
          },
          "execution_count": 140,
          "metadata": {},
          "output_type": "execute_result"
        }
      ],
      "source": [
        "type(s2)"
      ]
    },
    {
      "cell_type": "code",
      "execution_count": null,
      "id": "365e66ba-3e22-4060-b918-de1a0102b9ea",
      "metadata": {
        "id": "365e66ba-3e22-4060-b918-de1a0102b9ea"
      },
      "outputs": [],
      "source": [
        "s3 = {324,456,456, \"sudh\" , 45+45j ,34.465 , (3,4,5)}"
      ]
    },
    {
      "cell_type": "code",
      "execution_count": null,
      "id": "2b77074c-7de6-4bce-845e-49b068669f0d",
      "metadata": {
        "id": "2b77074c-7de6-4bce-845e-49b068669f0d",
        "outputId": "8e6b2437-b3e5-4a4b-dfcc-333fd74c5287"
      },
      "outputs": [
        {
          "data": {
            "text/plain": [
              "{(3, 4, 5), (45+45j), 324, 34.465, 456, 'sudh'}"
            ]
          },
          "execution_count": 144,
          "metadata": {},
          "output_type": "execute_result"
        }
      ],
      "source": [
        "s3"
      ]
    },
    {
      "cell_type": "code",
      "execution_count": null,
      "id": "c94bd388-48e1-406c-851c-df16b5f300a6",
      "metadata": {
        "id": "c94bd388-48e1-406c-851c-df16b5f300a6"
      },
      "outputs": [],
      "source": [
        "s4 = {2,3,4,5,6,2,2,3,4,5,2,3,1,2,3,4,5,6,1,2,2,3, 'Sudh', 'sudh'}"
      ]
    },
    {
      "cell_type": "code",
      "execution_count": null,
      "id": "0cd42da9-c2e5-4a77-832b-3ca2a6b7580f",
      "metadata": {
        "id": "0cd42da9-c2e5-4a77-832b-3ca2a6b7580f",
        "outputId": "c965456e-0053-45d9-f6c4-10c14067403a"
      },
      "outputs": [
        {
          "data": {
            "text/plain": [
              "{1, 2, 3, 4, 5, 6, 'Sudh', 'sudh'}"
            ]
          },
          "execution_count": 148,
          "metadata": {},
          "output_type": "execute_result"
        }
      ],
      "source": [
        "s4"
      ]
    },
    {
      "cell_type": "code",
      "execution_count": null,
      "id": "af5195d6-f983-498d-9ebc-a19f67381611",
      "metadata": {
        "id": "af5195d6-f983-498d-9ebc-a19f67381611"
      },
      "outputs": [],
      "source": [
        "l6 = [2,3,4,5,6,2,2,3,4,5,2,3,1,2,3,4,5,6,1,2,2,3, 'Sudh', 'sudh']"
      ]
    },
    {
      "cell_type": "code",
      "execution_count": null,
      "id": "f90ff400-dc96-4e0b-a714-756c38dabf43",
      "metadata": {
        "id": "f90ff400-dc96-4e0b-a714-756c38dabf43"
      },
      "outputs": [],
      "source": [
        "l6 = list(set(l6))"
      ]
    },
    {
      "cell_type": "code",
      "execution_count": null,
      "id": "78772c14-fc19-474a-a957-3f597276f0ca",
      "metadata": {
        "id": "78772c14-fc19-474a-a957-3f597276f0ca",
        "outputId": "4071e5e3-104c-4be6-be03-439460555618"
      },
      "outputs": [
        {
          "data": {
            "text/plain": [
              "[1, 2, 3, 4, 5, 6, 'sudh', 'Sudh']"
            ]
          },
          "execution_count": 154,
          "metadata": {},
          "output_type": "execute_result"
        }
      ],
      "source": [
        "l6"
      ]
    },
    {
      "cell_type": "code",
      "execution_count": null,
      "id": "1048cb2f-a896-4e4a-9361-b433279749d5",
      "metadata": {
        "id": "1048cb2f-a896-4e4a-9361-b433279749d5"
      },
      "outputs": [],
      "source": [
        "s5 = {234,45,23,12,567,45,2,789,234,\"abc\", 456,342,23}"
      ]
    },
    {
      "cell_type": "code",
      "execution_count": null,
      "id": "3193c611-74ab-4ef8-b7a9-1f257c204587",
      "metadata": {
        "id": "3193c611-74ab-4ef8-b7a9-1f257c204587",
        "outputId": "62c7fe18-d35e-4081-82a7-bda4f2111ee2"
      },
      "outputs": [
        {
          "data": {
            "text/plain": [
              "{12, 2, 23, 234, 342, 45, 456, 567, 789, 'abc'}"
            ]
          },
          "execution_count": 157,
          "metadata": {},
          "output_type": "execute_result"
        }
      ],
      "source": [
        "s5"
      ]
    },
    {
      "cell_type": "code",
      "execution_count": null,
      "id": "9655fd78-e4c2-43ed-bc3a-74a980b479f3",
      "metadata": {
        "id": "9655fd78-e4c2-43ed-bc3a-74a980b479f3",
        "outputId": "804d4b08-789e-4a22-91d2-6fc1c1cc1c27"
      },
      "outputs": [
        {
          "data": {
            "text/plain": [
              "{12, 2, 23, 234, 342, 45, 456, 567, 789, 'abc'}"
            ]
          },
          "execution_count": 158,
          "metadata": {},
          "output_type": "execute_result"
        }
      ],
      "source": [
        "s5"
      ]
    },
    {
      "cell_type": "code",
      "execution_count": null,
      "id": "b89b57f5-b5a4-4bd1-9ac6-a4569a84f966",
      "metadata": {
        "id": "b89b57f5-b5a4-4bd1-9ac6-a4569a84f966",
        "outputId": "c61746dd-b29f-4e2e-cceb-437add35d37c"
      },
      "outputs": [
        {
          "ename": "TypeError",
          "evalue": "'set' object is not subscriptable",
          "output_type": "error",
          "traceback": [
            "\u001b[0;31m---------------------------------------------------------------------------\u001b[0m",
            "\u001b[0;31mTypeError\u001b[0m                                 Traceback (most recent call last)",
            "Cell \u001b[0;32mIn[159], line 1\u001b[0m\n\u001b[0;32m----> 1\u001b[0m \u001b[43ms5\u001b[49m\u001b[43m[\u001b[49m\u001b[38;5;241;43m0\u001b[39;49m\u001b[43m]\u001b[49m\n",
            "\u001b[0;31mTypeError\u001b[0m: 'set' object is not subscriptable"
          ]
        }
      ],
      "source": [
        "s5[0]"
      ]
    },
    {
      "cell_type": "code",
      "execution_count": null,
      "id": "59fa6206-1202-440b-938e-3cfd2c422838",
      "metadata": {
        "id": "59fa6206-1202-440b-938e-3cfd2c422838",
        "outputId": "00ac5dcb-2274-4f01-ecec-10cb3a24de8e"
      },
      "outputs": [
        {
          "ename": "TypeError",
          "evalue": "'set' object is not subscriptable",
          "output_type": "error",
          "traceback": [
            "\u001b[0;31m---------------------------------------------------------------------------\u001b[0m",
            "\u001b[0;31mTypeError\u001b[0m                                 Traceback (most recent call last)",
            "Cell \u001b[0;32mIn[160], line 1\u001b[0m\n\u001b[0;32m----> 1\u001b[0m \u001b[43ms5\u001b[49m\u001b[43m[\u001b[49m\u001b[43m:\u001b[49m\u001b[43m:\u001b[49m\u001b[38;5;241;43m-\u001b[39;49m\u001b[38;5;241;43m1\u001b[39;49m\u001b[43m]\u001b[49m\n",
            "\u001b[0;31mTypeError\u001b[0m: 'set' object is not subscriptable"
          ]
        }
      ],
      "source": [
        "s5[::-1]"
      ]
    },
    {
      "cell_type": "code",
      "execution_count": null,
      "id": "59c80f9e-8ab2-4084-83b3-28865571356f",
      "metadata": {
        "id": "59c80f9e-8ab2-4084-83b3-28865571356f",
        "outputId": "78c29f7e-e556-4af9-e57b-99c75745b342"
      },
      "outputs": [
        {
          "data": {
            "text/plain": [
              "{12, 2, 23, 234, 342, 45, 456, 567, 789, 'abc'}"
            ]
          },
          "execution_count": 161,
          "metadata": {},
          "output_type": "execute_result"
        }
      ],
      "source": [
        "s5"
      ]
    },
    {
      "cell_type": "code",
      "execution_count": null,
      "id": "aa3a3afa-5283-491c-a054-bc89404846c5",
      "metadata": {
        "id": "aa3a3afa-5283-491c-a054-bc89404846c5"
      },
      "outputs": [],
      "source": [
        "s5.add(4)"
      ]
    },
    {
      "cell_type": "code",
      "execution_count": null,
      "id": "c37c9b7d-25fe-4d04-88ae-400d294a2211",
      "metadata": {
        "id": "c37c9b7d-25fe-4d04-88ae-400d294a2211",
        "outputId": "4477a9ba-e208-4e44-e940-457fc6c2ad64"
      },
      "outputs": [
        {
          "data": {
            "text/plain": [
              "{12, 2, 23, 234, 342, 4, 45, 456, 567, 789, 'abc'}"
            ]
          },
          "execution_count": 163,
          "metadata": {},
          "output_type": "execute_result"
        }
      ],
      "source": [
        "s5"
      ]
    },
    {
      "cell_type": "code",
      "execution_count": null,
      "id": "f2e0ee43-4fa2-47ba-a348-6537c76b50e7",
      "metadata": {
        "id": "f2e0ee43-4fa2-47ba-a348-6537c76b50e7"
      },
      "outputs": [],
      "source": [
        "s5.remove(2)"
      ]
    },
    {
      "cell_type": "code",
      "execution_count": null,
      "id": "efa0e33a-4538-4ea2-b26b-5747c45fa462",
      "metadata": {
        "id": "efa0e33a-4538-4ea2-b26b-5747c45fa462",
        "outputId": "2b69b9fd-80ad-4f88-d802-e9e500a92557"
      },
      "outputs": [
        {
          "data": {
            "text/plain": [
              "{12, 23, 234, 342, 4, 45, 456, 567, 789, 'abc'}"
            ]
          },
          "execution_count": 165,
          "metadata": {},
          "output_type": "execute_result"
        }
      ],
      "source": [
        "s5"
      ]
    },
    {
      "cell_type": "code",
      "execution_count": null,
      "id": "d3080149-aeea-45df-8377-2452bfc35f7c",
      "metadata": {
        "id": "d3080149-aeea-45df-8377-2452bfc35f7c",
        "outputId": "e732c96f-e32a-407a-b601-31b572bb416e"
      },
      "outputs": [
        {
          "data": {
            "text/plain": [
              "[23424, 'pwskills', 'kumar', 'data science']"
            ]
          },
          "execution_count": 166,
          "metadata": {},
          "output_type": "execute_result"
        }
      ],
      "source": [
        "l4"
      ]
    },
    {
      "cell_type": "code",
      "execution_count": null,
      "id": "891f437c-c7ef-4c83-bff4-4c2decbed90f",
      "metadata": {
        "id": "891f437c-c7ef-4c83-bff4-4c2decbed90f",
        "outputId": "37fe2e87-3a34-427d-db66-754b95df8f14"
      },
      "outputs": [
        {
          "data": {
            "text/plain": [
              "[30, 4, 5, 6]"
            ]
          },
          "execution_count": 167,
          "metadata": {},
          "output_type": "execute_result"
        }
      ],
      "source": [
        "l5"
      ]
    },
    {
      "cell_type": "code",
      "execution_count": null,
      "id": "0a177eac-8562-4631-88e6-eeed99c29d4b",
      "metadata": {
        "id": "0a177eac-8562-4631-88e6-eeed99c29d4b"
      },
      "outputs": [],
      "source": [
        "l5.append(l4)"
      ]
    },
    {
      "cell_type": "code",
      "execution_count": null,
      "id": "6d785533-8f86-4521-abf5-0d5ce4e89858",
      "metadata": {
        "id": "6d785533-8f86-4521-abf5-0d5ce4e89858",
        "outputId": "857fdc9d-8362-4646-d37c-67cb0123e7a4"
      },
      "outputs": [
        {
          "ename": "TypeError",
          "evalue": "can only concatenate list (not \"str\") to list",
          "output_type": "error",
          "traceback": [
            "\u001b[0;31m---------------------------------------------------------------------------\u001b[0m",
            "\u001b[0;31mTypeError\u001b[0m                                 Traceback (most recent call last)",
            "Cell \u001b[0;32mIn[169], line 1\u001b[0m\n\u001b[0;32m----> 1\u001b[0m \u001b[43ml4\u001b[49m\u001b[43m \u001b[49m\u001b[38;5;241;43m+\u001b[39;49m\u001b[43m \u001b[49m\u001b[38;5;124;43m\"\u001b[39;49m\u001b[38;5;124;43msudh\u001b[39;49m\u001b[38;5;124;43m\"\u001b[39;49m\n",
            "\u001b[0;31mTypeError\u001b[0m: can only concatenate list (not \"str\") to list"
          ]
        }
      ],
      "source": [
        "l4 + \"sudh\""
      ]
    },
    {
      "cell_type": "code",
      "execution_count": null,
      "id": "f3ea4057-333a-4bf3-a7b2-97046db19e20",
      "metadata": {
        "id": "f3ea4057-333a-4bf3-a7b2-97046db19e20",
        "outputId": "ea6c4b7a-757d-4d8d-e2ff-f82694a17435"
      },
      "outputs": [
        {
          "data": {
            "text/plain": [
              "[30, 4, 5, 6, [23424, 'pwskills', 'kumar', 'data science']]"
            ]
          },
          "execution_count": 171,
          "metadata": {},
          "output_type": "execute_result"
        }
      ],
      "source": [
        "l5"
      ]
    },
    {
      "cell_type": "code",
      "execution_count": null,
      "id": "622e7fc1-a28b-4287-a311-47533a482c7f",
      "metadata": {
        "id": "622e7fc1-a28b-4287-a311-47533a482c7f"
      },
      "outputs": [],
      "source": [
        "s = {1,2,3,1,2,3,4,5,5}"
      ]
    },
    {
      "cell_type": "code",
      "execution_count": null,
      "id": "0af687f4-db6d-4eee-90fe-2322a2c83778",
      "metadata": {
        "id": "0af687f4-db6d-4eee-90fe-2322a2c83778",
        "outputId": "abc1a867-2380-49ec-8a70-339287824d2d"
      },
      "outputs": [
        {
          "data": {
            "text/plain": [
              "{1, 2, 3, 4, 5}"
            ]
          },
          "execution_count": 173,
          "metadata": {},
          "output_type": "execute_result"
        }
      ],
      "source": [
        "s"
      ]
    },
    {
      "cell_type": "code",
      "execution_count": null,
      "id": "72e128c0-af36-4e3c-9ea1-0df58a398abd",
      "metadata": {
        "id": "72e128c0-af36-4e3c-9ea1-0df58a398abd"
      },
      "outputs": [],
      "source": [
        "s1 ={34,45665,45645,65,664,23,1,1,23,43,4}"
      ]
    },
    {
      "cell_type": "code",
      "execution_count": null,
      "id": "7b4476a3-84ee-4267-b113-baf4ea667aa7",
      "metadata": {
        "id": "7b4476a3-84ee-4267-b113-baf4ea667aa7",
        "outputId": "0dabfe00-89e2-40dc-a493-0cd13c0d46df"
      },
      "outputs": [
        {
          "data": {
            "text/plain": [
              "{1, 4, 23, 34, 43, 65, 664, 45645, 45665}"
            ]
          },
          "execution_count": 176,
          "metadata": {},
          "output_type": "execute_result"
        }
      ],
      "source": [
        "s1"
      ]
    },
    {
      "cell_type": "code",
      "execution_count": null,
      "id": "e2e072a7-a304-4287-88ba-2e0b7e5a0faf",
      "metadata": {
        "id": "e2e072a7-a304-4287-88ba-2e0b7e5a0faf"
      },
      "outputs": [],
      "source": [
        "l = [3,4,5,6,6,6]"
      ]
    },
    {
      "cell_type": "code",
      "execution_count": null,
      "id": "b6522fef-7466-42ac-8b97-04e8da3840e8",
      "metadata": {
        "id": "b6522fef-7466-42ac-8b97-04e8da3840e8"
      },
      "outputs": [],
      "source": [
        "l.insert(-1 , \"jay\")"
      ]
    },
    {
      "cell_type": "code",
      "execution_count": null,
      "id": "c2fc1fe8-a468-471a-8b09-dadaee1f1f1b",
      "metadata": {
        "id": "c2fc1fe8-a468-471a-8b09-dadaee1f1f1b",
        "outputId": "ca843e22-a105-43de-d75f-3cbbe64bad6e"
      },
      "outputs": [
        {
          "data": {
            "text/plain": [
              "[3, 4, 'jay', 5, 6, 6, 'jay', 6]"
            ]
          },
          "execution_count": 182,
          "metadata": {},
          "output_type": "execute_result"
        }
      ],
      "source": [
        "l"
      ]
    },
    {
      "cell_type": "code",
      "execution_count": null,
      "id": "bddcaa92-b367-4061-aeae-053652048bcf",
      "metadata": {
        "id": "bddcaa92-b367-4061-aeae-053652048bcf"
      },
      "outputs": [],
      "source": [
        "l3=[\"q\",'a','y','z','3','4']\n"
      ]
    },
    {
      "cell_type": "code",
      "execution_count": null,
      "id": "19683040-8508-495e-b6a1-6895c0ca2af2",
      "metadata": {
        "id": "19683040-8508-495e-b6a1-6895c0ca2af2"
      },
      "outputs": [],
      "source": [
        "l3.sort()"
      ]
    },
    {
      "cell_type": "code",
      "execution_count": null,
      "id": "7c0abf0a-a540-459b-a9e9-c79339590655",
      "metadata": {
        "id": "7c0abf0a-a540-459b-a9e9-c79339590655",
        "outputId": "c34f3e8b-2b6d-415b-a56f-0501901d9ada"
      },
      "outputs": [
        {
          "data": {
            "text/plain": [
              "['3', '4', 'a', 'q', 'y', 'z']"
            ]
          },
          "execution_count": 185,
          "metadata": {},
          "output_type": "execute_result"
        }
      ],
      "source": [
        "l3"
      ]
    },
    {
      "cell_type": "code",
      "execution_count": null,
      "id": "9041d730-09bf-4462-a3c9-9c4a8e52bf64",
      "metadata": {
        "id": "9041d730-09bf-4462-a3c9-9c4a8e52bf64",
        "outputId": "23a781b3-178a-4472-d40e-73ac56d163dc"
      },
      "outputs": [
        {
          "data": {
            "text/plain": [
              "[3, 4, 'jay', 5, 6, 6, 'jay', 6]"
            ]
          },
          "execution_count": 186,
          "metadata": {},
          "output_type": "execute_result"
        }
      ],
      "source": [
        "s = \"sudh\"\n",
        "l"
      ]
    },
    {
      "cell_type": "code",
      "execution_count": null,
      "id": "44ea7565-32de-44a6-a027-06e6a70b4428",
      "metadata": {
        "id": "44ea7565-32de-44a6-a027-06e6a70b4428"
      },
      "outputs": [],
      "source": [
        "l.insert(3,list(s))"
      ]
    },
    {
      "cell_type": "code",
      "execution_count": null,
      "id": "8a9699a0-6510-47e4-8a44-6cd2a6bedf0f",
      "metadata": {
        "id": "8a9699a0-6510-47e4-8a44-6cd2a6bedf0f",
        "outputId": "a520e982-adb0-4bbb-d367-66525cec00f5"
      },
      "outputs": [
        {
          "data": {
            "text/plain": [
              "[3, 4, 'jay', ['s', 'u', 'd', 'h'], 5, 6, 6, 'jay', 6]"
            ]
          },
          "execution_count": 189,
          "metadata": {},
          "output_type": "execute_result"
        }
      ],
      "source": [
        "l"
      ]
    },
    {
      "cell_type": "code",
      "execution_count": null,
      "id": "cc356900-b54d-406e-bf4a-d3841cdf9f31",
      "metadata": {
        "id": "cc356900-b54d-406e-bf4a-d3841cdf9f31"
      },
      "outputs": [],
      "source": [
        "l = [3,4,5,55, [1,3,4,5,6]]"
      ]
    },
    {
      "cell_type": "code",
      "execution_count": null,
      "id": "d3833e59-0cee-4ed6-88ae-c34c71d3b2e3",
      "metadata": {
        "id": "d3833e59-0cee-4ed6-88ae-c34c71d3b2e3",
        "outputId": "3424fdf5-2d30-4601-8412-a8e9a2739a12"
      },
      "outputs": [
        {
          "data": {
            "text/plain": [
              "[23424, 'pwskills', 'kumar', 'data science']"
            ]
          },
          "execution_count": 191,
          "metadata": {},
          "output_type": "execute_result"
        }
      ],
      "source": [
        "l4"
      ]
    },
    {
      "cell_type": "code",
      "execution_count": null,
      "id": "389c6dcd-b4df-494f-a4ac-2b8da7df41d9",
      "metadata": {
        "id": "389c6dcd-b4df-494f-a4ac-2b8da7df41d9"
      },
      "outputs": [],
      "source": [
        "l4.extend(l)"
      ]
    },
    {
      "cell_type": "code",
      "execution_count": null,
      "id": "b4255ba6-a16d-46e8-890f-82dff97fd1a5",
      "metadata": {
        "id": "b4255ba6-a16d-46e8-890f-82dff97fd1a5",
        "outputId": "b6a0e36f-3467-4249-dee7-21e3626e8ae5"
      },
      "outputs": [
        {
          "data": {
            "text/plain": [
              "[23424, 'pwskills', 'kumar', 'data science', 3, 4, 5, 55, [1, 3, 4, 5, 6]]"
            ]
          },
          "execution_count": 193,
          "metadata": {},
          "output_type": "execute_result"
        }
      ],
      "source": [
        "l4"
      ]
    },
    {
      "cell_type": "code",
      "execution_count": null,
      "id": "16b2b93d-cee8-4a0a-8ae2-d3111f3f5ddd",
      "metadata": {
        "id": "16b2b93d-cee8-4a0a-8ae2-d3111f3f5ddd",
        "outputId": "37ac4e58-2e63-4874-b3d2-f69a7322b1b4"
      },
      "outputs": [
        {
          "data": {
            "text/plain": [
              "['kumar', 'data science', 3]"
            ]
          },
          "execution_count": 195,
          "metadata": {},
          "output_type": "execute_result"
        }
      ],
      "source": [
        "l4[2:5]"
      ]
    },
    {
      "cell_type": "code",
      "execution_count": null,
      "id": "d2d07e26-5602-4575-94e8-b05eec3271d7",
      "metadata": {
        "id": "d2d07e26-5602-4575-94e8-b05eec3271d7"
      },
      "outputs": [],
      "source": [
        "m = \"pwskills\""
      ]
    },
    {
      "cell_type": "code",
      "execution_count": null,
      "id": "37922311-d81e-4411-bae3-b235fdc8a5f2",
      "metadata": {
        "id": "37922311-d81e-4411-bae3-b235fdc8a5f2",
        "outputId": "4fa3809a-24c5-49f4-8f19-ff741a15491a"
      },
      "outputs": [
        {
          "data": {
            "text/plain": [
              "'p'"
            ]
          },
          "execution_count": 197,
          "metadata": {},
          "output_type": "execute_result"
        }
      ],
      "source": [
        "m[::9999]"
      ]
    },
    {
      "cell_type": "code",
      "execution_count": null,
      "id": "c7d58b6d-93bc-440f-8526-f27892b172f3",
      "metadata": {
        "id": "c7d58b6d-93bc-440f-8526-f27892b172f3",
        "outputId": "2989e6ef-4240-4199-b9f2-d040b8f7d6ba"
      },
      "outputs": [
        {
          "data": {
            "text/plain": [
              "[3, 4, 5, 55, [1, 3, 4, 5, 6]]"
            ]
          },
          "execution_count": 198,
          "metadata": {},
          "output_type": "execute_result"
        }
      ],
      "source": [
        "l"
      ]
    },
    {
      "cell_type": "code",
      "execution_count": null,
      "id": "480443ea-1b16-45c1-9c9a-777f509490e7",
      "metadata": {
        "id": "480443ea-1b16-45c1-9c9a-777f509490e7"
      },
      "outputs": [],
      "source": [
        "l.append(324)"
      ]
    },
    {
      "cell_type": "code",
      "execution_count": null,
      "id": "8bb8445a-8b9a-4fac-b0c5-0ebd1b847c69",
      "metadata": {
        "id": "8bb8445a-8b9a-4fac-b0c5-0ebd1b847c69",
        "outputId": "450868c2-d3db-4a74-f849-e78ad1fa4ec9"
      },
      "outputs": [
        {
          "data": {
            "text/plain": [
              "[3, 4, 5, 55, [1, 3, 4, 5, 6], 324]"
            ]
          },
          "execution_count": 200,
          "metadata": {},
          "output_type": "execute_result"
        }
      ],
      "source": [
        "l"
      ]
    },
    {
      "cell_type": "code",
      "execution_count": null,
      "id": "1ceee627-ab42-4a89-97ac-ded09a8e536d",
      "metadata": {
        "id": "1ceee627-ab42-4a89-97ac-ded09a8e536d"
      },
      "outputs": [],
      "source": [
        "l.extend(\"sudh\")"
      ]
    },
    {
      "cell_type": "code",
      "execution_count": null,
      "id": "24fb78a4-7f65-40ec-9191-5f88fa69f678",
      "metadata": {
        "id": "24fb78a4-7f65-40ec-9191-5f88fa69f678",
        "outputId": "de11c6ff-5fdd-4f43-8e0f-5c8a82ec3584"
      },
      "outputs": [
        {
          "data": {
            "text/plain": [
              "[3, 4, 5, 55, [1, 3, 4, 5, 6], 324, 's', 'u', 'd', 'h']"
            ]
          },
          "execution_count": 202,
          "metadata": {},
          "output_type": "execute_result"
        }
      ],
      "source": [
        "l"
      ]
    },
    {
      "cell_type": "code",
      "execution_count": null,
      "id": "d4dbe97d-6914-4926-a8d8-6a38211a9d4e",
      "metadata": {
        "id": "d4dbe97d-6914-4926-a8d8-6a38211a9d4e"
      },
      "outputs": [],
      "source": []
    }
  ],
  "metadata": {
    "kernelspec": {
      "display_name": "Python 3 (ipykernel)",
      "language": "python",
      "name": "python3"
    },
    "language_info": {
      "codemirror_mode": {
        "name": "ipython",
        "version": 3
      },
      "file_extension": ".py",
      "mimetype": "text/x-python",
      "name": "python",
      "nbconvert_exporter": "python",
      "pygments_lexer": "ipython3",
      "version": "3.10.8"
    },
    "colab": {
      "provenance": [],
      "include_colab_link": true
    }
  },
  "nbformat": 4,
  "nbformat_minor": 5
}